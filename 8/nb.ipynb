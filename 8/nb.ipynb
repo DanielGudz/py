{
 "cells": [
  {
   "cell_type": "markdown",
   "metadata": {},
   "source": [
    "scan all files in target directory and find 22.txt."
   ]
  },
  {
   "cell_type": "markdown",
   "metadata": {},
   "source": [
    "when found, change \"It belongs to Vasya\" to \"It belongs to Daniel\"."
   ]
  },
  {
   "cell_type": "code",
   "execution_count": 47,
   "metadata": {},
   "outputs": [],
   "source": [
    "import os\n",
    "import shutil\n",
    "def scanfile(fpath):\n",
    "    openjoinedpath = open(fpath)\n",
    "    readjoinedpath = openjoinedpath.read()\n",
    "    words = readjoinedpath.split()\n",
    "    for i in range(len(words)):\n",
    "        if i > len(words)-4:\n",
    "            break\n",
    "        elif words[i] == 'This' and words[i+1] == 'belongs' and words[i+2] == 'to' and words[i+3] == 'Vasya':\n",
    "            openjoinedpath.close()\n",
    "            with open(fpath, mode='w') as file:\n",
    "                file.write('This actually belongs to Daniel')\n",
    "\n",
    "                \n",
    "listdirtarget = os.listdir('target')\n",
    "files = []\n",
    "for f in listdirtarget:\n",
    "    joined_f = os.path.join('target',f)\n",
    "    if os.path.isdir(joined_f):\n",
    "        listdirf = os.listdir(joined_f)\n",
    "        for txtfile in listdirf:\n",
    "            joinpath = os.path.join(joined_f,txtfile)\n",
    "            files.append(joinpath)\n",
    "    else:\n",
    "        files.append(joined_f)\n",
    "\n",
    "for x in files:\n",
    "    scanfile(x)"
   ]
  },
  {
   "cell_type": "code",
   "execution_count": null,
   "metadata": {
    "collapsed": true
   },
   "outputs": [],
   "source": []
  }
 ],
 "metadata": {
  "kernelspec": {
   "display_name": "Python 3",
   "language": "python",
   "name": "python3"
  },
  "language_info": {
   "codemirror_mode": {
    "name": "ipython",
    "version": 3
   },
   "file_extension": ".py",
   "mimetype": "text/x-python",
   "name": "python",
   "nbconvert_exporter": "python",
   "pygments_lexer": "ipython3",
   "version": "3.6.3"
  }
 },
 "nbformat": 4,
 "nbformat_minor": 2
}
