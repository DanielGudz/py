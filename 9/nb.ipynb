{
 "cells": [
  {
   "cell_type": "markdown",
   "metadata": {
    "collapsed": true
   },
   "source": [
    "create target directory - os.makedirs()  \n",
    "scan files in src directory to find password key - split(';')  \n",
    "change the password value to 0000.  \n",
    "copy files that were changed to the target directory.  "
   ]
  },
  {
   "cell_type": "code",
   "execution_count": 6,
   "metadata": {},
   "outputs": [],
   "source": [
    "import os \n",
    "import shutil\n",
    "\n",
    "os.makedirs('target')"
   ]
  },
  {
   "cell_type": "code",
   "execution_count": 50,
   "metadata": {
    "scrolled": false
   },
   "outputs": [],
   "source": [
    "def scanfile(fpath):\n",
    "    aw = []\n",
    "    o = open(fpath)\n",
    "    r = o.read()\n",
    "    words = r.split(';')\n",
    "    for w in words:\n",
    "        if w.startswith('password='):\n",
    "            shutil.copy(fpath, 'target')\n",
    "            aw.append('password=0000')\n",
    "        else:\n",
    "            aw.append(w)\n",
    "    x = ';'.join(aw)\n",
    "    o.close()\n",
    "    with open(fpath, mode='w') as file:\n",
    "        file.write(x)\n",
    "        \n",
    "\n",
    "src = os.listdir('src')\n",
    "for f in src:\n",
    "    joined = os.path.join('src', f)\n",
    "    scanfile(joined)\n",
    "    "
   ]
  },
  {
   "cell_type": "code",
   "execution_count": 35,
   "metadata": {},
   "outputs": [
    {
     "data": {
      "text/plain": [
       "'gg;hh;sdfgsdfg;kk'"
      ]
     },
     "execution_count": 35,
     "metadata": {},
     "output_type": "execute_result"
    }
   ],
   "source": [
    "';'.join(['gg','hh','sdfgsdfg','kk'])"
   ]
  },
  {
   "cell_type": "code",
   "execution_count": null,
   "metadata": {
    "collapsed": true
   },
   "outputs": [],
   "source": []
  }
 ],
 "metadata": {
  "kernelspec": {
   "display_name": "Python 3",
   "language": "python",
   "name": "python3"
  },
  "language_info": {
   "codemirror_mode": {
    "name": "ipython",
    "version": 3
   },
   "file_extension": ".py",
   "mimetype": "text/x-python",
   "name": "python",
   "nbconvert_exporter": "python",
   "pygments_lexer": "ipython3",
   "version": "3.6.3"
  }
 },
 "nbformat": 4,
 "nbformat_minor": 2
}
