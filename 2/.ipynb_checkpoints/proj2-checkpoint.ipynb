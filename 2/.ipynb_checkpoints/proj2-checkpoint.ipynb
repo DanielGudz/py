{
 "cells": [
  {
   "cell_type": "markdown",
   "metadata": {},
   "source": [
    "## copy text.txt to text1.txt\n",
    "\n",
    "1. open text.txt\n",
    "2. read its content (readlines())\n",
    "3. opent text1.txt\n",
    "4. write content of text.txt"
   ]
  },
  {
   "cell_type": "code",
   "execution_count": 2,
   "metadata": {
    "collapsed": true
   },
   "outputs": [],
   "source": [
    "myfile = open('text.txt')\n",
    "output = myfile.read()\n",
    "with open('text1.txt', mode = 'w+') as f:\n",
    "    f.write(output)\n",
    "myfile.close()"
   ]
  },
  {
   "cell_type": "markdown",
   "metadata": {},
   "source": [
    "## copy text.txt to text2.txt and prepend lines with line-numbers\n",
    "\n",
    "1.    open text.txt\n",
    "2.    read its content (readlines())\n",
    "2.1 initialize counter\n",
    "3.    opent text1.txt\n",
    "3.1 concatanate counter and line content\n",
    "4.    write line of text.txt\n",
    "\n"
   ]
  },
  {
   "cell_type": "code",
   "execution_count": 3,
   "metadata": {
    "collapsed": true
   },
   "outputs": [],
   "source": [
    "myfile = open('text.txt')\n",
    "lines = myfile.readlines()\n",
    "i = 1\n",
    "with open('text2.txt', mode = 'w+') as f:\n",
    "    for l in lines:\n",
    "        f.write(str(i)+'. '+l)\n",
    "        i=i+1\n",
    "myfile.close()"
   ]
  },
  {
   "cell_type": "markdown",
   "metadata": {},
   "source": [
    "## copy text.txt to text3.txt and duplicate lines"
   ]
  },
  {
   "cell_type": "code",
   "execution_count": 6,
   "metadata": {
    "collapsed": true
   },
   "outputs": [],
   "source": [
    "myfile = open('text.txt')\n",
    "lines = myfile.readlines()\n",
    "with open('text3.txt', mode = 'w+') as f:\n",
    "    for l in lines:\n",
    "        f.write(l)\n",
    "        f.write(l)\n",
    "\n",
    "myfile.close()"
   ]
  },
  {
   "cell_type": "markdown",
   "metadata": {},
   "source": [
    "## count the number of appearances of the word Daniel\n",
    "\n",
    "1. use read()\n",
    "2. use split() to get list of the separated words"
   ]
  },
  {
   "cell_type": "code",
   "execution_count": 14,
   "metadata": {},
   "outputs": [],
   "source": [
    "myfile = open('text.txt')\n",
    "output = myfile.read()\n",
    "spli = output.split()\n",
    "counter = 0\n",
    "with open('text4.txt', mode = 'w+') as f:\n",
    "    for i in spli:\n",
    "        if i == 'Daniel':\n",
    "            counter = counter + 1\n",
    "    f.write(str(counter))\n",
    "            \n",
    "myfile.close()"
   ]
  },
  {
   "cell_type": "markdown",
   "metadata": {},
   "source": [
    "## copy text.txt to text5.txt wo comments and blank lines\n",
    "\n",
    "0. use readlines()\n",
    "1. use trim() to trim leading whitespaces\n",
    "2. use startswith() to check #"
   ]
  },
  {
   "cell_type": "code",
   "execution_count": 61,
   "metadata": {},
   "outputs": [],
   "source": [
    "myfile = open('text.txt')\n",
    "output = myfile.readlines()\n",
    "\n",
    "\n",
    "with open('text5.txt', mode = 'w+') as f:\n",
    "    for i in output:\n",
    "        i = i.strip()\n",
    "        cond1 = not i.startswith('#')\n",
    "        cond2 = len(i)!=0\n",
    "        if cond1 and cond2:\n",
    "            f.write(i+\"\\n\")\n",
    "            \n",
    "myfile.close()"
   ]
  }
 ],
 "metadata": {
  "kernelspec": {
   "display_name": "Python 3",
   "language": "python",
   "name": "python3"
  },
  "language_info": {
   "codemirror_mode": {
    "name": "ipython",
    "version": 3
   },
   "file_extension": ".py",
   "mimetype": "text/x-python",
   "name": "python",
   "nbconvert_exporter": "python",
   "pygments_lexer": "ipython3",
   "version": "3.6.3"
  }
 },
 "nbformat": 4,
 "nbformat_minor": 2
}
