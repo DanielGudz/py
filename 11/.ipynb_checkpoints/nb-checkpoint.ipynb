{
 "cells": [
  {
   "cell_type": "markdown",
   "metadata": {},
   "source": [
    "find owners.csv and change the owners from badguys.txt file to Daniel"
   ]
  },
  {
   "cell_type": "code",
   "execution_count": 1,
   "metadata": {
    "collapsed": true
   },
   "outputs": [],
   "source": [
    "import os\n",
    "import shutil"
   ]
  },
  {
   "cell_type": "code",
   "execution_count": 5,
   "metadata": {},
   "outputs": [
    {
     "name": "stdout",
     "output_type": "stream",
     "text": [
      "owner,%%,amount\n",
      "\n"
     ]
    }
   ],
   "source": [
    "def scanfile(fpath, badguys, owners_field_ix):\n",
    "    all_words = []\n",
    "    o = open(fpath)\n",
    "    lines = o.readlines()\n",
    "    openbadguys = open(badguys)\n",
    "    readbadguys = openbadguys.read()\n",
    "    shutil.copy(fpath, '.')\n",
    "    for line in lines:\n",
    "        words = line.split(',')\n",
    "        if words[owners_field_ix] in readbadguys:\n",
    "            all_words.append('Daniel,'+words[1]+','+words[2])\n",
    "        else:\n",
    "            all_words.append(line)\n",
    "    x = ''.join(all_words)\n",
    "    o.close()\n",
    "    openbadguys.close()\n",
    "    with open(fpath, mode='w') as file:\n",
    "        file.write(x)\n",
    "\n",
    "\n",
    "def get_index(fpath):\n",
    "    o = open(fpath)\n",
    "    lines = o.readlines()\n",
    "    linesplit = lines[0].split(',')\n",
    "    for i in range(len(linesplit)):\n",
    "        if linesplit[i] == 'owner':\n",
    "            o.close()\n",
    "            return i\n",
    "\n",
    "\n",
    "src = os.listdir('src')\n",
    "\n",
    "for f in src:\n",
    "    joined = os.path.join('src', f)\n",
    "    if os.path.isdir(joined):\n",
    "        listdir = os.listdir(joined)\n",
    "        for file in listdir:\n",
    "            joined1 = os.path.join(joined, file)\n",
    "            if file == 'owners.csv':\n",
    "                index = get_index(joined1)\n",
    "                scanfile(joined1,'badguys.txt',index)\n",
    "    else:\n",
    "        if f == 'owners.csv':\n",
    "            index = get_index(joined)\n",
    "            scanfile(joined,'badguys.txt',index)\n",
    "        "
   ]
  },
  {
   "cell_type": "code",
   "execution_count": null,
   "metadata": {
    "collapsed": true
   },
   "outputs": [],
   "source": []
  }
 ],
 "metadata": {
  "kernelspec": {
   "display_name": "Python 3",
   "language": "python",
   "name": "python3"
  },
  "language_info": {
   "codemirror_mode": {
    "name": "ipython",
    "version": 3
   },
   "file_extension": ".py",
   "mimetype": "text/x-python",
   "name": "python",
   "nbconvert_exporter": "python",
   "pygments_lexer": "ipython3",
   "version": "3.6.3"
  }
 },
 "nbformat": 4,
 "nbformat_minor": 2
}
