{
 "cells": [
  {
   "cell_type": "markdown",
   "metadata": {},
   "source": [
    "go through all files and if IMPORTANT > 003 change IMPORTANT to 000  \n",
    "copy all files that were modified to the target directory."
   ]
  },
  {
   "cell_type": "code",
   "execution_count": 18,
   "metadata": {
    "collapsed": true
   },
   "outputs": [],
   "source": [
    "import os \n",
    "import shutil"
   ]
  },
  {
   "cell_type": "code",
   "execution_count": 22,
   "metadata": {
    "collapsed": true
   },
   "outputs": [],
   "source": [
    "listdir = os.listdir('config')"
   ]
  },
  {
   "cell_type": "code",
   "execution_count": 37,
   "metadata": {
    "collapsed": true
   },
   "outputs": [],
   "source": [
    "def scanfile(fpath):\n",
    "    aw = []\n",
    "    o = open(fpath)\n",
    "    r = o.read()\n",
    "    words = r.split(';')\n",
    "    for w in words:\n",
    "        ws = w.split('=')\n",
    "        if ws[0] == 'IMPORTANT':\n",
    "            if int(ws[-1]) > 3:\n",
    "                aw.append()\n",
    "            else:\n",
    "                aw.append(w)\n",
    "        else:\n",
    "            aw.append(w)\n",
    "    x = ';'.join(aw)\n",
    "    o.close()\n",
    "    with open(fpath, mode='w') as file:\n",
    "        file.write(x)\n",
    "\n",
    "listdircfg = os.listdir('config')\n",
    "files = []\n",
    "for f in listdircfg:\n",
    "    joined_f = os.path.join('config',f)\n",
    "    if os.path.isdir(joined_f):\n",
    "        listdirf = os.listdir(joined_f)\n",
    "        for cfgfile in listdirf:\n",
    "            joinpath = os.path.join(joined_f,cfgfile)\n",
    "            files.append(joinpath)\n",
    "    else:\n",
    "        files.append(joined_f)\n",
    "\n",
    "for x in files:\n",
    "    scanfile(x)\n",
    "\n"
   ]
  },
  {
   "cell_type": "code",
   "execution_count": 33,
   "metadata": {},
   "outputs": [
    {
     "name": "stdout",
     "output_type": "stream",
     "text": [
      "yos\n"
     ]
    }
   ],
   "source": []
  },
  {
   "cell_type": "code",
   "execution_count": null,
   "metadata": {
    "collapsed": true
   },
   "outputs": [],
   "source": []
  }
 ],
 "metadata": {
  "kernelspec": {
   "display_name": "Python 3",
   "language": "python",
   "name": "python3"
  },
  "language_info": {
   "codemirror_mode": {
    "name": "ipython",
    "version": 3
   },
   "file_extension": ".py",
   "mimetype": "text/x-python",
   "name": "python",
   "nbconvert_exporter": "python",
   "pygments_lexer": "ipython3",
   "version": "3.6.3"
  }
 },
 "nbformat": 4,
 "nbformat_minor": 2
}
