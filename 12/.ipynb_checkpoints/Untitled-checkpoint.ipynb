{
 "cells": [
  {
   "cell_type": "markdown",
   "metadata": {},
   "source": [
    "create new csv file with people that their salary is more than 50,000"
   ]
  },
  {
   "cell_type": "code",
   "execution_count": 1,
   "metadata": {
    "collapsed": true
   },
   "outputs": [],
   "source": [
    "import os \n",
    "import shutil"
   ]
  },
  {
   "cell_type": "code",
   "execution_count": 29,
   "metadata": {},
   "outputs": [],
   "source": [
    "def scan_file(file_path):\n",
    "    high_salary = []\n",
    "    o = open(file_path)\n",
    "    lines = o.readlines()\n",
    "    len_lines = len(lines)\n",
    "    for i in range(len_lines):\n",
    "        if i== 0:\n",
    "            continue\n",
    "        else:\n",
    "            words = lines[i].split(',')\n",
    "            if int(words[2]) > 50000:\n",
    "                high_salary.append(','.join(words))\n",
    "                     \n",
    "    x = ''.join(high_salary)\n",
    "    o.close()\n",
    "    with open('highsalaries.csv', mode='w+') as file:\n",
    "        file.write(x)\n",
    "\n",
    "\n",
    "\n",
    "db_dir = os.listdir('db')\n",
    "for f in db_dir:\n",
    "    joined = os.path.join('db',f)\n",
    "    if os.path.isdir(joined):\n",
    "        list_dir_joined = os.listdir(joined)\n",
    "        for file in list_dir_joined:\n",
    "            if file == 'salaries.csv':\n",
    "                joined1 = os.path.join(joined,file)\n",
    "                scan_file(joined1)\n",
    "    else:\n",
    "        if f == 'salaries.csv':\n",
    "            scan_file(joined)\n"
   ]
  }
 ],
 "metadata": {
  "kernelspec": {
   "display_name": "Python 3",
   "language": "python",
   "name": "python3"
  },
  "language_info": {
   "codemirror_mode": {
    "name": "ipython",
    "version": 3
   },
   "file_extension": ".py",
   "mimetype": "text/x-python",
   "name": "python",
   "nbconvert_exporter": "python",
   "pygments_lexer": "ipython3",
   "version": "3.6.3"
  }
 },
 "nbformat": 4,
 "nbformat_minor": 2
}
