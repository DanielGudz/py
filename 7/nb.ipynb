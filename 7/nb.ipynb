{
 "cells": [
  {
   "cell_type": "markdown",
   "metadata": {},
   "source": [
    "1) copy cfg directory to current directory with a different name (shutil.copytree)"
   ]
  },
  {
   "cell_type": "markdown",
   "metadata": {},
   "source": [
    "2) find in which config file there are the keys: MOUNT_USB and BOOT_USB and change their values to 1."
   ]
  },
  {
   "cell_type": "code",
   "execution_count": 2,
   "metadata": {
    "collapsed": true
   },
   "outputs": [],
   "source": [
    "import os\n",
    "import shutil"
   ]
  },
  {
   "cell_type": "code",
   "execution_count": 6,
   "metadata": {},
   "outputs": [
    {
     "data": {
      "text/plain": [
       "['config.config', 'system.config']"
      ]
     },
     "execution_count": 6,
     "metadata": {},
     "output_type": "execute_result"
    }
   ],
   "source": [
    "lstdir = os.listdir('cfg')\n",
    "lstdir"
   ]
  },
  {
   "cell_type": "code",
   "execution_count": 23,
   "metadata": {},
   "outputs": [
    {
     "data": {
      "text/plain": [
       "'cfgcopy'"
      ]
     },
     "execution_count": 23,
     "metadata": {},
     "output_type": "execute_result"
    }
   ],
   "source": [
    "shutil.copytree('cfg','cfgcopy')"
   ]
  },
  {
   "cell_type": "code",
   "execution_count": 52,
   "metadata": {},
   "outputs": [
    {
     "name": "stdout",
     "output_type": "stream",
     "text": [
      "[]\n",
      "['SYSTEM_BOOT=1\\n', 'LOAD_METHOD=default\\n', 'MOUNT_USB=0\\n', 'BOOT_USB=0\\n', 'CONFIG1=2\\n', 'CONFIG2=0']\n"
     ]
    }
   ],
   "source": [
    "\n",
    "for f in lstdir:\n",
    "    lst = []\n",
    "    j = os.path.join('cfg',f)\n",
    "    o = open(j)\n",
    "    r = o.readlines()\n",
    "    print(r)\n",
    "    for l in r:\n",
    "        if l.startswith('MOUNT_USB=0'):\n",
    "            lst.append('MOUNT_USB=1 \\n')\n",
    "        elif l.startswith('BOOT_USB=0'):\n",
    "            lst.append('BOOT_USB=1 \\n')\n",
    "        else:\n",
    "            lst.append(l)\n",
    "    o.close()\n",
    "    with open(j, mode = 'w') as file:\n",
    "        for s in lst:\n",
    "            file.write(s)"
   ]
  },
  {
   "cell_type": "code",
   "execution_count": null,
   "metadata": {
    "collapsed": true
   },
   "outputs": [],
   "source": []
  }
 ],
 "metadata": {
  "kernelspec": {
   "display_name": "Python 3",
   "language": "python",
   "name": "python3"
  },
  "language_info": {
   "codemirror_mode": {
    "name": "ipython",
    "version": 3
   },
   "file_extension": ".py",
   "mimetype": "text/x-python",
   "name": "python",
   "nbconvert_exporter": "python",
   "pygments_lexer": "ipython3",
   "version": "3.6.3"
  }
 },
 "nbformat": 4,
 "nbformat_minor": 2
}
