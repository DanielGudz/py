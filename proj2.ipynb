{
 "cells": [
  {
   "cell_type": "markdown",
   "metadata": {},
   "source": [
    "## copy text.txt to text1.txt\n",
    "\n",
    "1. open text.txt\n",
    "2. read its content (readlines())\n",
    "3. opent text1.txt\n",
    "4. write content of text.txt"
   ]
  },
  {
   "cell_type": "code",
   "execution_count": 5,
   "metadata": {},
   "outputs": [
    {
     "ename": "SyntaxError",
     "evalue": "(unicode error) 'unicodeescape' codec can't decode bytes in position 2-3: truncated \\UXXXXXXXX escape (<ipython-input-5-ef8125a975ca>, line 1)",
     "output_type": "error",
     "traceback": [
      "\u001b[1;36m  File \u001b[1;32m\"<ipython-input-5-ef8125a975ca>\"\u001b[1;36m, line \u001b[1;32m1\u001b[0m\n\u001b[1;33m    open('C:\\Users\\danyg\\Desktop\\py\\python_projects\\2\\text.txt')\u001b[0m\n\u001b[1;37m        ^\u001b[0m\n\u001b[1;31mSyntaxError\u001b[0m\u001b[1;31m:\u001b[0m (unicode error) 'unicodeescape' codec can't decode bytes in position 2-3: truncated \\UXXXXXXXX escape\n"
     ]
    }
   ],
   "source": [
    "open('C:\\Users\\danyg\\Desktop\\py\\python_projects\\2\\text.txt')"
   ]
  },
  {
   "cell_type": "markdown",
   "metadata": {},
   "source": [
    "## copy text.txt to text2.txt and prepend lines with line-numbers\n",
    "\n",
    "1.    open text.txt\n",
    "2.    read its content (readlines())\n",
    "2.1 initialize counter\n",
    "3.    opent text1.txt\n",
    "3.1 concatanate counter and line content\n",
    "4.    write line of text.txt\n",
    "\n"
   ]
  },
  {
   "cell_type": "markdown",
   "metadata": {},
   "source": [
    "## copy text.txt to text3.txt and duplicate lines"
   ]
  },
  {
   "cell_type": "markdown",
   "metadata": {},
   "source": [
    "## count the number of appearances of the word Daniel\n",
    "\n",
    "1. use read()\n",
    "2. use split() to get list of the separated words"
   ]
  },
  {
   "cell_type": "markdown",
   "metadata": {},
   "source": [
    "## copy text.txt to text4.txt wo comments and blank lines\n",
    "\n",
    "0. use readlines()\n",
    "1. use trim() to trim leading whitespaces\n",
    "2. use startswith() to check #"
   ]
  }
 ],
 "metadata": {
  "kernelspec": {
   "display_name": "Python 3",
   "language": "python",
   "name": "python3"
  },
  "language_info": {
   "codemirror_mode": {
    "name": "ipython",
    "version": 3
   },
   "file_extension": ".py",
   "mimetype": "text/x-python",
   "name": "python",
   "nbconvert_exporter": "python",
   "pygments_lexer": "ipython3",
   "version": "3.6.3"
  }
 },
 "nbformat": 4,
 "nbformat_minor": 2
}
