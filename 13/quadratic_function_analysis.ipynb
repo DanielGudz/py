{
 "cells": [
  {
   "cell_type": "code",
   "execution_count": 14,
   "metadata": {
    "collapsed": true
   },
   "outputs": [],
   "source": [
    "import math\n",
    "import numpy as np\n",
    "import matplotlib.pyplot as plt"
   ]
  },
  {
   "cell_type": "markdown",
   "metadata": {
    "collapsed": true
   },
   "source": [
    "\\begin{align}\n",
    "& \\text{solve equation of the following form:}\\\\\n",
    "& y=(a*x+b)(c*x+d)\n",
    "\\end{align}"
   ]
  },
  {
   "cell_type": "markdown",
   "metadata": {},
   "source": [
    "\\begin{align}\n",
    "& \\text{example of equation of that form:}\\\\\n",
    "& y=(3x+4)(2x+7)\\\\\n",
    "& y=(5x-2)(x+3)\\\\\n",
    "& y=(x+6)(-2x-4)\n",
    "\\end{align}"
   ]
  },
  {
   "cell_type": "markdown",
   "metadata": {},
   "source": [
    "\\begin{align}\n",
    "& \\text{after opening the brackets:}\\\\\n",
    "& y=(a*x+b)(c*x+d)\\\\\n",
    "& y=ax*cx+ax*d+b*cx+b*d\\\\\n",
    "& y=ac*x^2+(ad+bc)x+bd\\\\\n",
    "\\end{align}"
   ]
  },
  {
   "cell_type": "code",
   "execution_count": 15,
   "metadata": {
    "collapsed": true
   },
   "outputs": [],
   "source": [
    "a = 1\n",
    "b = 1\n",
    "c = 1\n",
    "d = 1"
   ]
  },
  {
   "cell_type": "markdown",
   "metadata": {},
   "source": [
    "\\begin{align}\n",
    "& \\text{let's denote:}\\\\\n",
    "& A=ac\\\\\n",
    "& B=ad+bc\\\\\n",
    "& C=bd\\\\\n",
    "\\end{align}"
   ]
  },
  {
   "cell_type": "markdown",
   "metadata": {},
   "source": [
    "\\begin{align}\n",
    "& \\text{let's re-write the equation using this notation:}\\\\\n",
    "& y=A*x^2+B*x+C\\\\\n",
    "\\end{align}"
   ]
  },
  {
   "cell_type": "code",
   "execution_count": 16,
   "metadata": {},
   "outputs": [
    {
     "name": "stdout",
     "output_type": "stream",
     "text": [
      "y = 1x^2+2x+1\n"
     ]
    }
   ],
   "source": [
    "A = a*c\n",
    "B = (a*d)+(b*c)\n",
    "C = b*d\n",
    "print(f'y = {A}x^2+{B}x+{C}')"
   ]
  },
  {
   "cell_type": "markdown",
   "metadata": {},
   "source": [
    "\\begin{align}\n",
    "& \\text{let's find the x-axis intersections:}\\\\\n",
    "& \\text{for that purpose we should set: } y = 0\\\\\n",
    "& A*x^2+B*x+C = 0\\\\\n",
    "& \\text{solution for x:}\\\\\n",
    "& x_{1,2}=\\frac{-B\\pm\\sqrt{B^2-4AC}}{2A}\n",
    "\\end{align}"
   ]
  },
  {
   "cell_type": "code",
   "execution_count": 17,
   "metadata": {},
   "outputs": [
    {
     "name": "stdout",
     "output_type": "stream",
     "text": [
      "x1 = -1.0\n",
      "x2 = -1.0\n"
     ]
    }
   ],
   "source": [
    "delta = B**2-4*A*C\n",
    "if delta >= 0:\n",
    "    x1 = (-B+math.sqrt(delta))/(2 * A)\n",
    "    x2 = (-B-math.sqrt(delta))/(2 * A)\n",
    "    print(f'x1 = {x1}\\nx2 = {x2}')\n",
    "else:\n",
    "    print('error')"
   ]
  },
  {
   "cell_type": "markdown",
   "metadata": {},
   "source": [
    "\\begin{align}\n",
    "& \\text{let's find the x extremum point:}\\\\\n",
    "& x_e = \\frac {-B}{2A}\n",
    "\\end{align}"
   ]
  },
  {
   "cell_type": "code",
   "execution_count": 18,
   "metadata": {},
   "outputs": [
    {
     "name": "stdout",
     "output_type": "stream",
     "text": [
      "the x value of extremum point is -1.0\n"
     ]
    }
   ],
   "source": [
    "x_e = -B/(2*A)\n",
    "print(f'the x value of extremum point is {x_e}')"
   ]
  },
  {
   "cell_type": "markdown",
   "metadata": {},
   "source": [
    "\\begin{align}\n",
    "& \\text{let's find the y extremum point:}\\\\\n",
    "& \\text{for that we should substitute the x extremum value to the equation:}\\\\\n",
    "& y_e = A*x_e^2+B*x_e+C \\\\\n",
    "& y_e = A*(\\frac {-B}{2A})^2+B*(\\frac {-B}{2A})+C \\\\\n",
    "& y_e = \\frac {AB^2}{4A^2}+\\frac {-B^2}{2A}+C \\\\\n",
    "& y_e = \\frac {B^2}{4A}-\\frac {B^2}{2A}+C \\\\\n",
    "& y_e = \\frac {B^2}{4A}-\\frac {2B^2}{4A}+C \\\\\n",
    "& y_e = \\frac {B^2-2B^2}{4A}+C \\\\\n",
    "& y_e = \\frac {-B^2}{4A}+C \\\\\n",
    "& y_e = C-\\frac {B^2}{4A}\\\\\n",
    "\\end{align}"
   ]
  },
  {
   "cell_type": "code",
   "execution_count": 19,
   "metadata": {},
   "outputs": [
    {
     "name": "stdout",
     "output_type": "stream",
     "text": [
      "the y value of extremum point is 0.0\n"
     ]
    }
   ],
   "source": [
    "y_e = A*(x_e**2)+B*x_e+C\n",
    "print(f'the y value of extremum point is {y_e}')"
   ]
  },
  {
   "cell_type": "markdown",
   "metadata": {},
   "source": [
    "\\begin{align}\n",
    "& \\text{to find the y-axis intersection, set: } x = 0\\\\\n",
    "& y = A*0^2+B*0+C\\\\\n",
    "& y = 0+0+C\\\\\n",
    "& y = C\n",
    "\\end{align}"
   ]
  },
  {
   "cell_type": "code",
   "execution_count": 20,
   "metadata": {},
   "outputs": [
    {
     "name": "stdout",
     "output_type": "stream",
     "text": [
      "the intersection point with the y-axis is (0,1)\n"
     ]
    }
   ],
   "source": [
    "y_intersect = C\n",
    "print(f'the intersection point with the y-axis is (0,{y_intersect})')"
   ]
  },
  {
   "cell_type": "code",
   "execution_count": 21,
   "metadata": {},
   "outputs": [
    {
     "name": "stdout",
     "output_type": "stream",
     "text": [
      "The graph of the function:\n"
     ]
    },
    {
     "data": {
      "image/png": "[encoded data removed]",
      "text/plain": [
       "<matplotlib.figure.Figure at 0x2327da74fd0>"
      ]
     },
     "metadata": {},
     "output_type": "display_data"
    }
   ],
   "source": [
    "print('The graph of the function:')\n",
    "x1, x2 = min((x1, x2)), max((x1, x2))\n",
    "rng = .1*(x2 - x1 + 1)\n",
    "xs = np.linspace(x1 - rng, x2 + rng, 100)\n",
    "ys = A*(xs**2)+B*xs+C\n",
    "plt.plot(xs, ys)\n",
    "plt.axhline(y=0, xmin=np.min(xs), xmax=np.max(xs), c='r', lw=.5, ls='--')\n",
    "plt.axvline(x=0, ymin=np.min(ys), ymax=np.max(ys), c='r', lw=.5, ls='--')\n",
    "plt.title(f'The graph of the function: {A}x^2 + {B}x + {C}')\n",
    "plt.show()"
   ]
  },
  {
   "cell_type": "markdown",
   "metadata": {},
   "source": [
    "\\begin{align}\n",
    "& \\text{let's present this function in the form:} y = a(x-p)^2+k\\\\\n",
    "& \\text{remind that: } p = x_e, k = y_e\\\\\n",
    "& y = A(x-x_e)^2+y_e\\\\\n",
    "& y = A(x+\\frac{B}{2A})^2+C-\\frac {B^2}{4A}\\\\\n",
    "\\end{align}"
   ]
  },
  {
   "cell_type": "code",
   "execution_count": 25,
   "metadata": {},
   "outputs": [
    {
     "name": "stdout",
     "output_type": "stream",
     "text": [
      "1(x-(-1.0))^2+(0.0)\n"
     ]
    }
   ],
   "source": [
    "print(f'{A}(x-({x_e}))^2+({y_e})')"
   ]
  },
  {
   "cell_type": "code",
   "execution_count": 23,
   "metadata": {},
   "outputs": [
    {
     "name": "stdout",
     "output_type": "stream",
     "text": [
      "range of increase: x > -1.0\n",
      "range of decrease: x < -1.0\n"
     ]
    }
   ],
   "source": [
    "if A > 0:\n",
    "    print(f'range of increase: x > {x_e}\\nrange of decrease: x < {x_e}')\n",
    "else:\n",
    "    print(f'range of increase: x < {x_e}\\nrange of decrease: x > {x_e}')"
   ]
  },
  {
   "cell_type": "code",
   "execution_count": 24,
   "metadata": {},
   "outputs": [
    {
     "name": "stdout",
     "output_type": "stream",
     "text": [
      "always positive\n"
     ]
    }
   ],
   "source": [
    "if delta > 0:\n",
    "    if A > 0:\n",
    "        print(f'(x < {x1}): positive\\n({x1} < x < {x1}): negative\\n(x > {x1}): positive')\n",
    "    else:\n",
    "        print(f'(x < {x1}): negative\\n({x1} < x < {x1}): positive\\n(x > {x1}): negative')\n",
    "else:\n",
    "    if A > 0:\n",
    "        print(f'always positive')\n",
    "    else:\n",
    "        print(f'always negative')\n"
   ]
  }
 ],
 "metadata": {
  "kernelspec": {
   "display_name": "Python 3",
   "language": "python",
   "name": "python3"
  },
  "language_info": {
   "codemirror_mode": {
    "name": "ipython",
    "version": 3
   },
   "file_extension": ".py",
   "mimetype": "text/x-python",
   "name": "python",
   "nbconvert_exporter": "python",
   "pygments_lexer": "ipython3",
   "version": "3.6.3"
  }
 },
 "nbformat": 4,
 "nbformat_minor": 2
}
