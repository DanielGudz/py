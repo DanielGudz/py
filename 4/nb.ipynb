{
 "cells": [
  {
   "cell_type": "markdown",
   "metadata": {},
   "source": [
    "## search for passwords"
   ]
  },
  {
   "cell_type": "code",
   "execution_count": 1,
   "metadata": {
    "collapsed": true
   },
   "outputs": [],
   "source": [
    "import os\n",
    "import shutil"
   ]
  },
  {
   "cell_type": "markdown",
   "metadata": {
    "collapsed": true
   },
   "source": [
    "1) load passwords keys dictionary to a list from passworddic.txt"
   ]
  },
  {
   "cell_type": "code",
   "execution_count": 10,
   "metadata": {},
   "outputs": [
    {
     "data": {
      "text/plain": [
       "['password:', 'pass:', 'passwd:']"
      ]
     },
     "execution_count": 10,
     "metadata": {},
     "output_type": "execute_result"
    }
   ],
   "source": [
    "o = open('passworddic')\n",
    "r = o.read()\n",
    "passworddiclst = r.split()\n",
    "passworddiclst"
   ]
  },
  {
   "cell_type": "markdown",
   "metadata": {},
   "source": [
    "2) list all regular files in current directory "
   ]
  },
  {
   "cell_type": "code",
   "execution_count": 11,
   "metadata": {},
   "outputs": [
    {
     "name": "stdout",
     "output_type": "stream",
     "text": [
      "0.txt\n",
      "1.txt\n",
      "nb.ipynb\n",
      "passworddic\n"
     ]
    }
   ],
   "source": [
    "listdir = os.listdir()\n",
    "for i in listdir:\n",
    "    if os.path.isfile(i):\n",
    "        print(i)"
   ]
  },
  {
   "cell_type": "markdown",
   "metadata": {},
   "source": [
    "3) filter files that have a .txt extension (os.path.splitext()[1] == '.txt')"
   ]
  },
  {
   "cell_type": "code",
   "execution_count": 12,
   "metadata": {},
   "outputs": [
    {
     "data": {
      "text/plain": [
       "['0.txt', '1.txt']"
      ]
     },
     "execution_count": 12,
     "metadata": {},
     "output_type": "execute_result"
    }
   ],
   "source": [
    "listdir = os.listdir()\n",
    "files = []\n",
    "for f in listdir:\n",
    "    cond = os.path.isfile(f) and os.path.splitext(f)[1] == '.txt'\n",
    "    if cond:\n",
    "        files.append(f)\n",
    "\n",
    "files"
   ]
  },
  {
   "cell_type": "markdown",
   "metadata": {},
   "source": [
    "4) find passwords that come after passwords key"
   ]
  },
  {
   "cell_type": "code",
   "execution_count": 16,
   "metadata": {},
   "outputs": [
    {
     "data": {
      "text/plain": [
       "['12351254', '1234']"
      ]
     },
     "execution_count": 16,
     "metadata": {},
     "output_type": "execute_result"
    }
   ],
   "source": [
    "def find_pass(pass_keys_list, string):\n",
    "    passlist = []\n",
    "    words = string.split()\n",
    "    for i in range(len(words)):\n",
    "        if words[i] in pass_keys_list:\n",
    "            passlist.append(words[i+1])\n",
    "    return passlist\n",
    "\n",
    "pl = []\n",
    "for f in files:\n",
    "    o = open(f)\n",
    "    r = o.read()\n",
    "    pl.extend(find_pass(passworddiclst, r))\n",
    "pl"
   ]
  },
  {
   "cell_type": "markdown",
   "metadata": {},
   "source": [
    "5) list directories but .ipynb_checkpoints"
   ]
  },
  {
   "cell_type": "code",
   "execution_count": 14,
   "metadata": {},
   "outputs": [
    {
     "data": {
      "text/plain": [
       "['0', '1']"
      ]
     },
     "execution_count": 14,
     "metadata": {},
     "output_type": "execute_result"
    }
   ],
   "source": [
    "dirs_in_current_dir = []\n",
    "for f in os.listdir():\n",
    "    if os.path.isdir(f) and f != '.ipynb_checkpoints':\n",
    "        dirs_in_current_dir.append(f)\n",
    "        \n",
    "dirs_in_current_dir"
   ]
  },
  {
   "cell_type": "markdown",
   "metadata": {},
   "source": [
    "6) for every txt file in the directories find passwords that come after passwords key"
   ]
  },
  {
   "cell_type": "code",
   "execution_count": 48,
   "metadata": {},
   "outputs": [
    {
     "data": {
      "text/plain": [
       "['12351254', '1234', 'abc', 'xyz']"
      ]
     },
     "execution_count": 48,
     "metadata": {},
     "output_type": "execute_result"
    }
   ],
   "source": [
    "all_pass = []\n",
    "for f in dirs_in_current_dir:\n",
    "    x = os.listdir(f)\n",
    "    for i in x:\n",
    "        j = os.path.join(f,i)\n",
    "        jo = open(j)\n",
    "        jr = jo.read()\n",
    "        pl.extend(find_pass(passworddiclst, jr))\n",
    "pl"
   ]
  },
  {
   "cell_type": "markdown",
   "metadata": {},
   "source": [
    "7) print all found passwords"
   ]
  },
  {
   "cell_type": "code",
   "execution_count": 49,
   "metadata": {},
   "outputs": [
    {
     "name": "stdout",
     "output_type": "stream",
     "text": [
      "['12351254', '1234', 'abc', 'xyz']\n"
     ]
    }
   ],
   "source": [
    "print(pl)"
   ]
  }
 ],
 "metadata": {
  "kernelspec": {
   "display_name": "Python 3",
   "language": "python",
   "name": "python3"
  },
  "language_info": {
   "codemirror_mode": {
    "name": "ipython",
    "version": 3
   },
   "file_extension": ".py",
   "mimetype": "text/x-python",
   "name": "python",
   "nbconvert_exporter": "python",
   "pygments_lexer": "ipython3",
   "version": "3.6.3"
  }
 },
 "nbformat": 4,
 "nbformat_minor": 2
}
