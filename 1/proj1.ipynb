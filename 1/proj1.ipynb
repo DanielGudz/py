{
 "cells": [
  {
   "cell_type": "markdown",
   "metadata": {},
   "source": [
    "conditional copying of an array"
   ]
  },
  {
   "cell_type": "code",
   "execution_count": 17,
   "metadata": {},
   "outputs": [
    {
     "name": "stdout",
     "output_type": "stream",
     "text": [
      "['w', 'x', 'y', 'z']\n"
     ]
    }
   ],
   "source": [
    "list1 = ['a','b','c']\n",
    "list2 = ['w','a','x','b','y','c','z']\n",
    "list3 = [] ##xyz\n",
    "\n",
    "\n",
    "for i in list2:\n",
    "    if i not in list1:\n",
    "        list3.append(i)\n",
    "\n",
    "print(list3)"
   ]
  },
  {
   "cell_type": "markdown",
   "metadata": {},
   "source": [
    "conditional copying of a string"
   ]
  },
  {
   "cell_type": "code",
   "execution_count": 23,
   "metadata": {},
   "outputs": [
    {
     "name": "stdout",
     "output_type": "stream",
     "text": [
      "wxyz\n"
     ]
    }
   ],
   "source": [
    "str1 = 'abc'\n",
    "str2 = 'waxbycz'\n",
    "str3 = '' ##xyz\n",
    "\n",
    "for i in str2:\n",
    "    if i not in str1:\n",
    "        str3+=i\n",
    "        \n",
    "print(str3)"
   ]
  },
  {
   "cell_type": "markdown",
   "metadata": {},
   "source": [
    "merge two lists"
   ]
  },
  {
   "cell_type": "code",
   "execution_count": 25,
   "metadata": {},
   "outputs": [
    {
     "name": "stdout",
     "output_type": "stream",
     "text": [
      "['a', 'b', 'c', 'x', 'y', 'z']\n"
     ]
    }
   ],
   "source": [
    "list1 = ['a','b','c']\n",
    "list2 = ['x','y','z']\n",
    "list3 = []\n",
    "\n",
    "for i in list1:\n",
    "    list3.append(i)\n",
    "    \n",
    "for i in list2:\n",
    "    list3.append(i)\n",
    "    \n",
    "print(list3)"
   ]
  },
  {
   "cell_type": "markdown",
   "metadata": {},
   "source": [
    "2d list to 1d list"
   ]
  },
  {
   "cell_type": "code",
   "execution_count": 30,
   "metadata": {},
   "outputs": [
    {
     "name": "stdout",
     "output_type": "stream",
     "text": [
      "['a', 'b', 'c', 'x', 'y', 'z']\n"
     ]
    }
   ],
   "source": [
    "list1 = [['a','b','c'], ['x','y','z']]\n",
    "list2 = []\n",
    "\n",
    "for i in list1:\n",
    "    for j in i:\n",
    "        list2.append(j)\n",
    "    \n",
    "print(list2)"
   ]
  },
  {
   "cell_type": "markdown",
   "metadata": {},
   "source": [
    "reverse list"
   ]
  },
  {
   "cell_type": "code",
   "execution_count": 62,
   "metadata": {},
   "outputs": [
    {
     "data": {
      "text/plain": [
       "[6, 5, 4, 3, 2, 1]"
      ]
     },
     "execution_count": 62,
     "metadata": {},
     "output_type": "execute_result"
    }
   ],
   "source": [
    "list1 = [1,2,3,4,5,6]\n",
    "## list1.reverse()\n",
    "\n",
    "def reverselist(lst):\n",
    "    list2 = []\n",
    "    for i in range(len(lst)):\n",
    "        list2.append(lst.pop())\n",
    "    return list2\n",
    "\n",
    "reverselist(list1)"
   ]
  },
  {
   "cell_type": "markdown",
   "metadata": {},
   "source": [
    "check symmetry of a list"
   ]
  },
  {
   "cell_type": "code",
   "execution_count": 91,
   "metadata": {},
   "outputs": [
    {
     "data": {
      "text/plain": [
       "False"
      ]
     },
     "execution_count": 91,
     "metadata": {},
     "output_type": "execute_result"
    }
   ],
   "source": [
    "list1 = ['a','b','c','c','b','a']             # symmetrical\n",
    "list2 = ['a','b','c','d','c','b','a']        # symmetrical\n",
    "list3 = ['a','c','b','a']                      # not symmetrical\n",
    "\n",
    "def is_symmetrical(lst):\n",
    "        for i in range(len(lst)):\n",
    "            if lst[i] != lst[-i-1]:\n",
    "                return False\n",
    "            \n",
    "        return True\n",
    "                \n",
    "                \n",
    "is_symmetrical(list3)"
   ]
  },
  {
   "cell_type": "markdown",
   "metadata": {},
   "source": [
    "find extremum of a list and sort"
   ]
  },
  {
   "cell_type": "code",
   "execution_count": 13,
   "metadata": {
    "scrolled": true
   },
   "outputs": [
    {
     "data": {
      "text/plain": [
       "[-3, 1, 2, 3, 5, 9, 11]"
      ]
     },
     "execution_count": 13,
     "metadata": {},
     "output_type": "execute_result"
    }
   ],
   "source": [
    "list1 = [3,2,5,1,11,9,-3]\n",
    "\n",
    "def get_min(lst):\n",
    "    x = 999999999999\n",
    "    for i in lst:\n",
    "        if i < x:\n",
    "            x = i\n",
    "    return x\n",
    "\n",
    "def get_max(lst):\n",
    "    x = 0\n",
    "    for i in lst:\n",
    "        if i > x:\n",
    "            x = i\n",
    "    return x\n",
    "\n",
    "def sort(lst):\n",
    "    list2 = []\n",
    "    while len(lst)>0:\n",
    "        x = get_min(lst)\n",
    "        list2.append(x)\n",
    "        lst.remove(x)\n",
    "        \n",
    "    return list2\n",
    "\n",
    "sort(list1)"
   ]
  }
 ],
 "metadata": {
  "kernelspec": {
   "display_name": "Python 3",
   "language": "python",
   "name": "python3"
  },
  "language_info": {
   "codemirror_mode": {
    "name": "ipython",
    "version": 3
   },
   "file_extension": ".py",
   "mimetype": "text/x-python",
   "name": "python",
   "nbconvert_exporter": "python",
   "pygments_lexer": "ipython3",
   "version": "3.6.3"
  }
 },
 "nbformat": 4,
 "nbformat_minor": 2
}
